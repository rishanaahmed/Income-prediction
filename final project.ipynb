{
 "cells": [
  {
   "cell_type": "markdown",
   "id": "38ba2e5d-4804-4c34-b477-e24e09380591",
   "metadata": {},
   "source": [
    "# INCOME PREDICTION "
   ]
  },
  {
   "cell_type": "markdown",
   "id": "e6f947fc-6008-4431-a8a4-920a712a5eb1",
   "metadata": {},
   "source": [
    "RISHANA SHERIN T"
   ]
  },
  {
   "cell_type": "markdown",
   "id": "24f53e39-51fb-4c59-a840-5cf108ab1bed",
   "metadata": {},
   "source": [
    "ENTRI ELEVATE"
   ]
  },
  {
   "cell_type": "markdown",
   "id": "bf0fa00e-eafd-446e-b6c6-c10de88c3124",
   "metadata": {},
   "source": [
    "### OVERVIEW OF PROBLEM STATEMENT:"
   ]
  },
  {
   "cell_type": "markdown",
   "id": "603bb017-d4a3-4b96-b3f4-2a16ccbafd4f",
   "metadata": {},
   "source": [
    "The dataset consists of 42 columns and 42,285 rows. It contains both categorical and numerical features related to demographics, employment, and income."
   ]
  },
  {
   "cell_type": "markdown",
   "id": "96397aea-5579-4524-a50e-633eaff485e1",
   "metadata": {},
   "source": [
    "### OBJECTIVE:"
   ]
  },
  {
   "cell_type": "markdown",
   "id": "761ca499-fd8f-48e3-be21-a9019c551afa",
   "metadata": {},
   "source": [
    "The goal of this analysis is to explore and process the dataset to derive meaningful insights and build a predictive model.The focus is to predict income levels or understanding employment trends based on demographic and occupational attributes."
   ]
  },
  {
   "cell_type": "markdown",
   "id": "cf5434b8-0856-4600-babf-50ec98968858",
   "metadata": {},
   "source": [
    "### DATA DESCRIPTION:"
   ]
  },
  {
   "cell_type": "markdown",
   "id": "72ae48ca-c5bf-4efb-bf67-fbb3bf579e70",
   "metadata": {},
   "source": [
    "Source: UCI machine learning repository"
   ]
  },
  {
   "cell_type": "markdown",
   "id": "e3ba9397-a26d-4987-82f4-1af6f869c88f",
   "metadata": {},
   "source": [
    "-Numerical Columns (e.g., Age, Occupation Code, Capital Gains, Weeks Worked in Year)"
   ]
  },
  {
   "cell_type": "markdown",
   "id": "de607aea-95d1-42d1-9159-f248c486bb72",
   "metadata": {},
   "source": [
    "-Categorical Columns (e.g., Class of Worker, Education, Race, Marital Status, Sex, Citizenship)"
   ]
  },
  {
   "cell_type": "markdown",
   "id": "7099db24-9f30-4103-8704-47e610cb0ab4",
   "metadata": {},
   "source": [
    "-Potential Target Variable: The column labeled \"income\"is the target for classification."
   ]
  },
  {
   "cell_type": "markdown",
   "id": "49d802d6-cec2-4158-bc65-f9c24e8cadff",
   "metadata": {},
   "source": [
    "## DATA COLLECTION:"
   ]
  },
  {
   "cell_type": "code",
   "execution_count": 1,
   "id": "e60746ee-06f1-46b0-a0d7-02130d4e84eb",
   "metadata": {},
   "outputs": [],
   "source": [
    "import pandas as pd\n",
    "df = pd.read_csv('output_file.csv')"
   ]
  },
  {
   "cell_type": "markdown",
   "id": "de375309-0fb1-4f95-b885-a4d037b454cc",
   "metadata": {},
   "source": [
    "## DATA PREPROCESSING:"
   ]
  },
  {
   "cell_type": "code",
   "execution_count": 3,
   "id": "01d56cc0-5ecc-485a-8445-23b0d4928711",
   "metadata": {},
   "outputs": [
    {
     "name": "stdout",
     "output_type": "stream",
     "text": [
      "Updated file saved as: your_output_file.csv\n"
     ]
    }
   ],
   "source": [
    "column_names = [\n",
    "    'age', 'class of worker', 'industry code', 'occupation code', 'education', 'enrolled in edu last week', \n",
    "    'marital status', 'major industry code', 'major occupation code', 'race', 'hispanic origin', 'sex', \n",
    "    'member of a labor union', 'reason for unemployment', 'full or part time employment stat', 'capital gains', \n",
    "    'capital losses', 'dividends from stocks', 'tax filer status', 'region of previous residence', \n",
    "    'state of previous residence', 'detailed household and family stat', \n",
    "    'detailed household summary in household', 'instance weight', 'migration code-change in msa', \n",
    "    'migration code-change in reg', 'migration code-move within reg', 'live in this house 1 year ago', \n",
    "    'migration prev res in sunbelt', 'num persons worked for employer', 'family members under 18', \n",
    "    'country of birth father', 'country of birth mother', 'country of birth self', 'citizenship', \n",
    "    'own business or self employed', \"fill inc questionaire for veteran's admin\", 'veterans benefits', \n",
    "    'weeks worked in year', 'income', 'wage per hour', 'year'\n",
    "]\n",
    "\n",
    "df.columns = column_names\n",
    "\n",
    "# Save the updated file\n",
    "updated_file_path = \"your_output_file.csv\" \n",
    "df.to_csv(updated_file_path, index=False)\n",
    "\n",
    "print(f\"Updated file saved as: {updated_file_path}\")"
   ]
  },
  {
   "cell_type": "code",
   "execution_count": 6,
   "id": "11c11956-02fb-4f1e-ba11-30cea39ef610",
   "metadata": {},
   "outputs": [
    {
     "name": "stdout",
     "output_type": "stream",
     "text": [
      "Dataset Info:\n",
      "<class 'pandas.core.frame.DataFrame'>\n",
      "RangeIndex: 42284 entries, 0 to 42283\n",
      "Data columns (total 42 columns):\n",
      " #   Column                                     Non-Null Count  Dtype  \n",
      "---  ------                                     --------------  -----  \n",
      " 0   age                                        42284 non-null  int64  \n",
      " 1   class of worker                            42284 non-null  object \n",
      " 2   industry code                              42284 non-null  int64  \n",
      " 3   occupation code                            42284 non-null  int64  \n",
      " 4   education                                  42284 non-null  object \n",
      " 5   enrolled in edu last week                  42284 non-null  int64  \n",
      " 6   marital status                             42284 non-null  object \n",
      " 7   major industry code                        42284 non-null  object \n",
      " 8   major occupation code                      42284 non-null  object \n",
      " 9   race                                       42284 non-null  object \n",
      " 10  hispanic origin                            42284 non-null  object \n",
      " 11  sex                                        42284 non-null  object \n",
      " 12  member of a labor union                    42284 non-null  object \n",
      " 13  reason for unemployment                    42284 non-null  object \n",
      " 14  full or part time employment stat          42284 non-null  object \n",
      " 15  capital gains                              42284 non-null  object \n",
      " 16  capital losses                             42284 non-null  int64  \n",
      " 17  dividends from stocks                      42284 non-null  int64  \n",
      " 18  tax filer status                           42284 non-null  int64  \n",
      " 19  region of previous residence               42284 non-null  object \n",
      " 20  state of previous residence                42284 non-null  object \n",
      " 21  detailed household and family stat         42284 non-null  object \n",
      " 22  detailed household summary in household    42284 non-null  object \n",
      " 23  instance weight                            42284 non-null  object \n",
      " 24  migration code-change in msa               42284 non-null  float64\n",
      " 25  migration code-change in reg               42284 non-null  object \n",
      " 26  migration code-move within reg             42284 non-null  object \n",
      " 27  live in this house 1 year ago              42284 non-null  object \n",
      " 28  migration prev res in sunbelt              42284 non-null  object \n",
      " 29  num persons worked for employer            42284 non-null  object \n",
      " 30  family members under 18                    42284 non-null  int64  \n",
      " 31  country of birth father                    42284 non-null  object \n",
      " 32  country of birth mother                    42284 non-null  object \n",
      " 33  country of birth self                      42284 non-null  object \n",
      " 34  citizenship                                42284 non-null  object \n",
      " 35  own business or self employed              42284 non-null  object \n",
      " 36  fill inc questionaire for veteran's admin  42283 non-null  float64\n",
      " 37  veterans benefits                          42283 non-null  object \n",
      " 38  weeks worked in year                       42283 non-null  float64\n",
      " 39  income                                     42283 non-null  float64\n",
      " 40  wage per hour                              42283 non-null  float64\n",
      " 41  year                                       42283 non-null  object \n",
      "dtypes: float64(5), int64(8), object(29)\n",
      "memory usage: 13.5+ MB\n"
     ]
    }
   ],
   "source": [
    "print(\"Dataset Info:\")\n",
    "df.info()"
   ]
  },
  {
   "cell_type": "code",
   "execution_count": 5,
   "id": "d598c9e6-abe6-45ff-827b-bc7ea4db0565",
   "metadata": {},
   "outputs": [],
   "source": [
    "import matplotlib.pyplot as plt\n",
    "import seaborn as sns\n",
    "import numpy as np"
   ]
  },
  {
   "cell_type": "code",
   "execution_count": 14,
   "id": "91e9e40b-30ed-481a-bf42-62c471e6b53c",
   "metadata": {},
   "outputs": [
    {
     "name": "stdout",
     "output_type": "stream",
     "text": [
      "Dataset Info:\n",
      "<class 'pandas.core.frame.DataFrame'>\n",
      "RangeIndex: 42284 entries, 0 to 42283\n",
      "Data columns (total 42 columns):\n",
      " #   Column                                     Non-Null Count  Dtype  \n",
      "---  ------                                     --------------  -----  \n",
      " 0   age                                        42284 non-null  int64  \n",
      " 1   class of worker                            42284 non-null  object \n",
      " 2   industry code                              42284 non-null  int64  \n",
      " 3   occupation code                            42284 non-null  int64  \n",
      " 4   education                                  42284 non-null  object \n",
      " 5   enrolled in edu last week                  42284 non-null  int64  \n",
      " 6   marital status                             42284 non-null  object \n",
      " 7   major industry code                        42284 non-null  object \n",
      " 8   major occupation code                      42284 non-null  object \n",
      " 9   race                                       42284 non-null  object \n",
      " 10  hispanic origin                            42284 non-null  object \n",
      " 11  sex                                        42284 non-null  object \n",
      " 12  member of a labor union                    42284 non-null  object \n",
      " 13  reason for unemployment                    42284 non-null  object \n",
      " 14  full or part time employment stat          42284 non-null  object \n",
      " 15  capital gains                              42284 non-null  object \n",
      " 16  capital losses                             42284 non-null  int64  \n",
      " 17  dividends from stocks                      42284 non-null  int64  \n",
      " 18  tax filer status                           42284 non-null  int64  \n",
      " 19  region of previous residence               42284 non-null  object \n",
      " 20  state of previous residence                42284 non-null  object \n",
      " 21  detailed household and family stat         42284 non-null  object \n",
      " 22  detailed household summary in household    42284 non-null  object \n",
      " 23  instance weight                            42284 non-null  object \n",
      " 24  migration code-change in msa               42284 non-null  float64\n",
      " 25  migration code-change in reg               42284 non-null  object \n",
      " 26  migration code-move within reg             42284 non-null  object \n",
      " 27  live in this house 1 year ago              42284 non-null  object \n",
      " 28  migration prev res in sunbelt              42284 non-null  object \n",
      " 29  num persons worked for employer            42284 non-null  object \n",
      " 30  family members under 18                    42284 non-null  int64  \n",
      " 31  country of birth father                    42284 non-null  object \n",
      " 32  country of birth mother                    42284 non-null  object \n",
      " 33  country of birth self                      42284 non-null  object \n",
      " 34  citizenship                                42284 non-null  object \n",
      " 35  own business or self employed              42284 non-null  object \n",
      " 36  fill inc questionaire for veteran's admin  42284 non-null  float64\n",
      " 37  veterans benefits                          42284 non-null  object \n",
      " 38  weeks worked in year                       42284 non-null  float64\n",
      " 39  income                                     42284 non-null  float64\n",
      " 40  wage per hour                              42284 non-null  float64\n",
      " 41  year                                       42284 non-null  object \n",
      "dtypes: float64(5), int64(8), object(29)\n",
      "memory usage: 13.5+ MB\n",
      "\n",
      "Missing Values:\n",
      "age                                          0\n",
      "class of worker                              0\n",
      "industry code                                0\n",
      "occupation code                              0\n",
      "education                                    0\n",
      "enrolled in edu last week                    0\n",
      "marital status                               0\n",
      "major industry code                          0\n",
      "major occupation code                        0\n",
      "race                                         0\n",
      "hispanic origin                              0\n",
      "sex                                          0\n",
      "member of a labor union                      0\n",
      "reason for unemployment                      0\n",
      "full or part time employment stat            0\n",
      "capital gains                                0\n",
      "capital losses                               0\n",
      "dividends from stocks                        0\n",
      "tax filer status                             0\n",
      "region of previous residence                 0\n",
      "state of previous residence                  0\n",
      "detailed household and family stat           0\n",
      "detailed household summary in household      0\n",
      "instance weight                              0\n",
      "migration code-change in msa                 0\n",
      "migration code-change in reg                 0\n",
      "migration code-move within reg               0\n",
      "live in this house 1 year ago                0\n",
      "migration prev res in sunbelt                0\n",
      "num persons worked for employer              0\n",
      "family members under 18                      0\n",
      "country of birth father                      0\n",
      "country of birth mother                      0\n",
      "country of birth self                        0\n",
      "citizenship                                  0\n",
      "own business or self employed                0\n",
      "fill inc questionaire for veteran's admin    0\n",
      "veterans benefits                            0\n",
      "weeks worked in year                         0\n",
      "income                                       0\n",
      "wage per hour                                0\n",
      "year                                         0\n",
      "dtype: int64\n"
     ]
    }
   ],
   "source": [
    "# Display basic info\n",
    "print(\"Dataset Info:\")\n",
    "df.info()\n",
    "\n",
    "# Check for missing values\n",
    "print(\"\\nMissing Values:\")\n",
    "print(df.isnull().sum())"
   ]
  },
  {
   "cell_type": "code",
   "execution_count": 6,
   "id": "9d99b2af-9aa2-408d-9658-eac60a661f0a",
   "metadata": {},
   "outputs": [],
   "source": [
    "df.fillna(df.mode().iloc[0], inplace=True)  \n",
    "df.columns = df.columns.str.strip().str.replace(' ', '_').str.replace('.', '', regex=False).str.replace('?', 'unknown')\n",
    "df.replace('?', pd.NA, inplace=True)"
   ]
  },
  {
   "cell_type": "code",
   "execution_count": null,
   "id": "d3a66d4a-155f-4b86-89bf-c9b94faf4966",
   "metadata": {
    "scrolled": true
   },
   "outputs": [],
   "source": [
    "# Summary statistics\n",
    "print(\"\\nSummary Statistics:\")\n",
    "print(df.describe())"
   ]
  },
  {
   "cell_type": "code",
   "execution_count": null,
   "id": "46577b02-5dd9-4cce-95f1-d112629af385",
   "metadata": {},
   "outputs": [],
   "source": [
    "# Check for unique values in categorical columns\n",
    "print(\"\\nUnique Values in Each Column:\")\n",
    "for col in df.select_dtypes(include=['object']).columns:\n",
    "    print(f\"{col}: {df[col].nunique()} unique values\")"
   ]
  },
  {
   "cell_type": "markdown",
   "id": "13c05c46-812a-4748-a94f-0912c215ccb6",
   "metadata": {},
   "source": [
    "### Detect outliers using IQR method"
   ]
  },
  {
   "cell_type": "code",
   "execution_count": 12,
   "id": "dbf24278-76df-4e4d-8222-06bb7cd1d694",
   "metadata": {},
   "outputs": [
    {
     "name": "stdout",
     "output_type": "stream",
     "text": [
      "\n",
      "Outliers Detection using IQR:\n",
      "age                                              0\n",
      "industry code                                    0\n",
      "occupation code                                  0\n",
      "enrolled in edu last week                     2395\n",
      "capital losses                                1632\n",
      "dividends from stocks                          819\n",
      "tax filer status                              4518\n",
      "migration code-change in msa                  1315\n",
      "family members under 18                          0\n",
      "fill inc questionaire for veteran's admin     4016\n",
      "weeks worked in year                         10420\n",
      "income                                           0\n",
      "wage per hour                                    0\n",
      "dtype: int64\n"
     ]
    }
   ],
   "source": [
    "print(\"\\nOutliers Detection using IQR:\")\n",
    "def detect_outliers(df):\n",
    "    Q1 = df.quantile(0.25)\n",
    "    Q3 = df.quantile(0.75)\n",
    "    IQR = Q3 - Q1\n",
    "    outliers = ((df < (Q1 - 1.5 * IQR)) | (df > (Q3 + 1.5 * IQR))).sum()\n",
    "    return outliers\n",
    "\n",
    "outliers = detect_outliers(df.select_dtypes(include=['number']))\n",
    "print(outliers)\n"
   ]
  },
  {
   "cell_type": "code",
   "execution_count": null,
   "id": "354f2e29-2dd6-4a07-b670-915c1d5b7f05",
   "metadata": {},
   "outputs": [],
   "source": [
    "# Boxplots to visualize outliers\n",
    "plt.figure(figsize=(12, 6))\n",
    "df.select_dtypes(include=['number']).boxplot(rot=90)\n",
    "plt.title(\"Boxplot of Numerical Features (Outliers Detection)\")\n",
    "plt.show()"
   ]
  },
  {
   "cell_type": "markdown",
   "id": "840f8a33-1f1c-45fa-9a6b-ebb4625fbc0d",
   "metadata": {},
   "source": [
    "### Capping outliers using IQR method"
   ]
  },
  {
   "cell_type": "code",
   "execution_count": 9,
   "id": "9e3bfa1d-4b86-47f6-b17f-7f32c64b21d3",
   "metadata": {},
   "outputs": [
    {
     "name": "stdout",
     "output_type": "stream",
     "text": [
      "\n",
      "Outliers capped using IQR method. New dataset shape: (42284, 13)\n"
     ]
    }
   ],
   "source": [
    "\n",
    "def cap_outliers(df):\n",
    "    Q1 = df.quantile(0.25)\n",
    "    Q3 = df.quantile(0.75)\n",
    "    IQR = Q3 - Q1\n",
    "    lower_bound = Q1 - 1.5 * IQR\n",
    "    upper_bound = Q3 + 1.5 * IQR\n",
    "    return df.clip(lower=lower_bound, upper=upper_bound, axis=1)\n",
    "\n",
    "df_numeric = df.select_dtypes(include=['number'])\n",
    "df_numeric = cap_outliers(df_numeric)\n",
    "print(\"\\nOutliers capped using IQR method. New dataset shape:\", df_numeric.shape)\n"
   ]
  },
  {
   "cell_type": "code",
   "execution_count": null,
   "id": "ed5de0cf-3497-4e9d-bc8a-17e6f1296d89",
   "metadata": {},
   "outputs": [],
   "source": [
    "# Boxplots to visualize the cleaned dataset after capping outliers\n",
    "plt.figure(figsize=(12, 6))\n",
    "sns.boxplot(data=df_numeric)\n",
    "plt.xticks(rotation=45)\n",
    "plt.title(\"Boxplot of Cleaned Numeric Features After Capping Outliers\")\n",
    "plt.show()\n"
   ]
  },
  {
   "cell_type": "markdown",
   "id": "dfd45351-0db5-4404-b019-c018df7098ea",
   "metadata": {},
   "source": [
    "### compute and remove skewness"
   ]
  },
  {
   "cell_type": "code",
   "execution_count": 16,
   "id": "f6ea0e06-6698-4c34-a51b-815932f88838",
   "metadata": {},
   "outputs": [
    {
     "data": {
      "text/plain": [
       "age                                           0.374340\n",
       "class_of_worker                               0.357706\n",
       "industry_code                                 0.509157\n",
       "occupation_code                               0.822679\n",
       "education                                    -0.709934\n",
       "enrolled_in_edu_last_week                    10.011742\n",
       "marital_status                               -4.265862\n",
       "major_industry_code                          -0.067061\n",
       "major_occupation_code                        -0.658619\n",
       "race                                          0.156474\n",
       "hispanic_origin                              -2.352787\n",
       "sex                                           2.691110\n",
       "member_of_a_labor_union                       0.107623\n",
       "reason_for_unemployment                      -1.703182\n",
       "full_or_part_time_employment_stat            -1.345146\n",
       "capital_gains                                 2.621858\n",
       "capital_losses                               19.726900\n",
       "dividends_from_stocks                         7.789861\n",
       "tax_filer_status                             30.324382\n",
       "region_of_previous_residence                 -0.385532\n",
       "state_of_previous_residence                  -0.508171\n",
       "detailed_household_and_family_stat           -4.542736\n",
       "detailed_household_summary_in_household       0.328652\n",
       "instance_weight                              -0.021914\n",
       "migration_code-change_in_msa                  1.376157\n",
       "migration_code-change_in_reg                  0.163830\n",
       "migration_code-move_within_reg                0.134039\n",
       "live_in_this_house_1_year_ago                 0.121863\n",
       "migration_prev_res_in_sunbelt                -0.360062\n",
       "num_persons_worked_for_employer               0.207360\n",
       "family_members_under_18                       0.742695\n",
       "country_of_birth_father                      -1.234867\n",
       "country_of_birth_mother                      -2.378167\n",
       "country_of_birth_self                        -2.443507\n",
       "citizenship                                  -3.516617\n",
       "own_business_or_self_employed                -2.705230\n",
       "fill_inc_questionaire_for_veteran's_admin     2.900231\n",
       "veterans_benefits                            -5.643259\n",
       "weeks_worked_in_year                         -1.208311\n",
       "income                                        0.204515\n",
       "wage_per_hour                                -0.002365\n",
       "year                                          3.676764\n",
       "dtype: float64"
      ]
     },
     "execution_count": 16,
     "metadata": {},
     "output_type": "execute_result"
    }
   ],
   "source": [
    "df.skew()"
   ]
  },
  {
   "cell_type": "code",
   "execution_count": 45,
   "id": "226e60e5-bc8b-4a80-a8d3-6c8b2f31f3b7",
   "metadata": {},
   "outputs": [
    {
     "data": {
      "text/plain": [
       "age                                          0.374340\n",
       "industry code                                0.509157\n",
       "occupation code                              0.822679\n",
       "enrolled in edu last week                    0.000000\n",
       "capital losses                               0.000000\n",
       "dividends from stocks                        0.000000\n",
       "tax filer status                             0.000000\n",
       "migration code-change in msa                 0.608011\n",
       "family members under 18                      0.742695\n",
       "fill inc questionaire for veteran's admin    0.000000\n",
       "weeks worked in year                         0.000000\n",
       "income                                       0.204515\n",
       "wage per hour                               -0.002365\n",
       "dtype: float64"
      ]
     },
     "execution_count": 45,
     "metadata": {},
     "output_type": "execute_result"
    }
   ],
   "source": [
    "df_numeric.skew()"
   ]
  },
  {
   "cell_type": "markdown",
   "id": "258ece49-f9ef-4917-8d9d-831c2902b9f1",
   "metadata": {},
   "source": [
    "## EXPLORATORY DATA ANALYSIS:"
   ]
  },
  {
   "cell_type": "markdown",
   "id": "32cea4e6-8210-4983-810f-cee0ef472af6",
   "metadata": {},
   "source": [
    "The dataset contains a mix of numerical and categorical variables.\n",
    "Some numerical columns, such as capital losses, dividends from stocks, and tax filer status, have extreme values, suggesting potential outliers.\n",
    "Age ranges from 0 to 90, with a mean of 34 years."
   ]
  },
  {
   "cell_type": "code",
   "execution_count": null,
   "id": "89573456-3864-4d75-b5ba-64c3346589a8",
   "metadata": {},
   "outputs": [],
   "source": [
    "# Plot histograms for numerical features\n",
    "df.hist(figsize=(12, 8), bins=30)\n",
    "plt.suptitle(\"Histograms of Numerical Features\")\n",
    "plt.show()"
   ]
  },
  {
   "cell_type": "code",
   "execution_count": null,
   "id": "9a442407-b79c-4687-a7b3-831f6d0a0a21",
   "metadata": {},
   "outputs": [],
   "source": [
    "# Correlation heatmap\n",
    "plt.figure(figsize=(10, 6))\n",
    "df_numeric = df.select_dtypes(include=['number']).dropna()\n",
    "if not df_numeric.empty:\n",
    "    sns.heatmap(df_numeric.corr(), annot=True, cmap='coolwarm', fmt='.2f')\n",
    "    plt.title(\"Correlation Heatmap\")\n",
    "    plt.show()\n",
    "else:\n",
    "    print(\"No numeric columns available for correlation heatmap.\")\n"
   ]
  },
  {
   "cell_type": "code",
   "execution_count": null,
   "id": "f8bc88af-215f-469a-bb1d-67357d567b7f",
   "metadata": {},
   "outputs": [],
   "source": [
    "# Pairplot for numerical features (sampled to avoid performance issues if dataset is large)\n",
    "sns.pairplot(df.sample(min(500, len(df))))\n",
    "plt.show()"
   ]
  },
  {
   "cell_type": "code",
   "execution_count": null,
   "id": "4a0dbe86-1cb0-40c3-af04-24a39c690906",
   "metadata": {},
   "outputs": [],
   "source": [
    "print(\"EDA Completed!\")"
   ]
  },
  {
   "cell_type": "code",
   "execution_count": 39,
   "id": "6f0c11ea-37d2-4012-962a-fa8dc61751e5",
   "metadata": {},
   "outputs": [],
   "source": [
    "df = df.dropna(subset=['income'])"
   ]
  },
  {
   "cell_type": "markdown",
   "id": "c57c0845-ac9e-4f41-9cd1-594cc7d63088",
   "metadata": {},
   "source": [
    "### Label encoding"
   ]
  },
  {
   "cell_type": "code",
   "execution_count": 14,
   "id": "ec8e582f-aa7a-4ef9-8c26-f0ae76c024b1",
   "metadata": {},
   "outputs": [],
   "source": [
    "from sklearn.preprocessing import LabelEncoder\n",
    "categorical_cols = df.select_dtypes(include=['object']).columns\n",
    "\n",
    "\n",
    "label_encoders = {}\n",
    "for col in categorical_cols:\n",
    "    le = LabelEncoder()\n",
    "    df[col] = le.fit_transform(df[col].astype(str))\n",
    "    label_encoders[col] = le"
   ]
  },
  {
   "cell_type": "markdown",
   "id": "34fc25fe-7ece-4dfa-97aa-e30865827edb",
   "metadata": {},
   "source": [
    "### Splitting dataset into train and test sets"
   ]
  },
  {
   "cell_type": "code",
   "execution_count": 18,
   "id": "92c5bc21-4cd2-40ed-aa6e-3d72e55fa6cd",
   "metadata": {},
   "outputs": [],
   "source": [
    "X = df.drop('income', axis=1)\n",
    "y = df['income']\n"
   ]
  },
  {
   "cell_type": "code",
   "execution_count": 20,
   "id": "d4c77261-afdf-4734-a3d0-55d0bdc6ac10",
   "metadata": {},
   "outputs": [
    {
     "name": "stdout",
     "output_type": "stream",
     "text": [
      "\n",
      "Dataset split into training and testing sets.\n",
      "Training set size: (33827, 41)\n",
      "Testing set size: (8457, 41)\n"
     ]
    }
   ],
   "source": [
    "from sklearn.model_selection import train_test_split, GridSearchCV\n",
    "\n",
    "X_train, X_test, y_train, y_test = train_test_split(X, y, test_size=0.2, random_state=42)\n",
    "print(\"\\nDataset split into training and testing sets.\")\n",
    "print(\"Training set size:\", X_train.shape)\n",
    "print(\"Testing set size:\", X_test.shape)"
   ]
  },
  {
   "cell_type": "markdown",
   "id": "b7fc5662-0747-4b70-9dd8-94c3adb0f197",
   "metadata": {},
   "source": [
    "### Feature selection using SelectKBest"
   ]
  },
  {
   "cell_type": "markdown",
   "id": "cffc0886-3c58-4c8a-a385-5e7615e1d80f",
   "metadata": {},
   "source": [
    "Feature selection is the process of choosing the most relevant features from a dataset to improve model performance, reduce overfitting, and enhance interpretability. It helps in dimensionality reduction, making models more efficient and faster.\n",
    "\n",
    "1. SelectKBest: SelectKBest is a feature selection method in scikit-learn that selects the top k features based on their scores using a specified statistical test. It helps improve model performance by removing irrelevant features."
   ]
  },
  {
   "cell_type": "code",
   "execution_count": 22,
   "id": "2b779da9-2add-464d-b6ce-92c88321df8f",
   "metadata": {},
   "outputs": [
    {
     "name": "stdout",
     "output_type": "stream",
     "text": [
      "\n",
      "Top selected features: ['age', 'industry_code', 'occupation_code', 'migration_code-change_in_msa', 'family_members_under_18']\n"
     ]
    }
   ],
   "source": [
    "from sklearn.feature_selection import SelectKBest, f_classif\n",
    "if 'income' in df.columns:\n",
    "    X = df_numeric.drop(columns=['income'], errors='ignore')\n",
    "    y = df['income']\n",
    "    \n",
    "\n",
    "    X = X.loc[:, X.nunique() > 1]\n",
    "    \n",
    "   \n",
    "    X, y = X.align(y, join='inner', axis=0)\n",
    "    \n",
    "    selector = SelectKBest(score_func=f_classif, k=min(5, X.shape[1]))  # Adjust k to available features\n",
    "    X_new = selector.fit_transform(X, y)\n",
    "    selected_features = X.columns[selector.get_support()]\n",
    "    print(\"\\nTop selected features:\", selected_features.tolist())\n",
    "else:\n",
    "    print(\"\\nFeature selection skipped: 'income' column not found.\")\n"
   ]
  },
  {
   "cell_type": "code",
   "execution_count": 24,
   "id": "66cd6287-517b-4781-8dc1-5397d0c2ee03",
   "metadata": {},
   "outputs": [
    {
     "name": "stdout",
     "output_type": "stream",
     "text": [
      "Mutual Information Scores:\n",
      "age: 0.378\n",
      "class_of_worker: 0.528\n",
      "industry_code: 0.540\n",
      "occupation_code: 0.547\n",
      "education: 0.278\n",
      "enrolled_in_edu_last_week: 0.035\n",
      "marital_status: 0.026\n",
      "major_industry_code: 0.115\n",
      "major_occupation_code: 0.535\n",
      "race: 0.528\n",
      "hispanic_origin: 0.014\n",
      "sex: 0.001\n",
      "member_of_a_labor_union: 0.010\n",
      "reason_for_unemployment: 0.073\n",
      "full_or_part_time_employment_stat: 0.030\n",
      "capital_gains: 0.210\n",
      "capital_losses: 0.018\n",
      "dividends_from_stocks: 0.007\n",
      "tax_filer_status: 0.019\n",
      "region_of_previous_residence: 0.400\n",
      "state_of_previous_residence: 0.005\n",
      "detailed_household_and_family_stat: 0.003\n",
      "detailed_household_summary_in_household: 0.230\n",
      "instance_weight: 0.212\n",
      "migration_code-change_in_msa: 0.025\n",
      "migration_code-change_in_reg: 0.002\n",
      "migration_code-move_within_reg: 0.006\n",
      "live_in_this_house_1_year_ago: 0.006\n",
      "migration_prev_res_in_sunbelt: 0.000\n",
      "num_persons_worked_for_employer: 0.003\n",
      "family_members_under_18: 0.695\n",
      "country_of_birth_father: 0.208\n",
      "country_of_birth_mother: 0.009\n",
      "country_of_birth_self: 0.007\n",
      "citizenship: 0.007\n",
      "own_business_or_self_employed: 0.006\n",
      "fill_inc_questionaire_for_veteran's_admin: 0.072\n",
      "veterans_benefits: 0.004\n",
      "weeks_worked_in_year: 0.222\n",
      "wage_per_hour: 0.000\n",
      "year: 0.038\n",
      "\n",
      "Top 12 Features:\n",
      "['family_members_under_18', 'occupation_code', 'industry_code', 'major_occupation_code', 'race', 'class_of_worker', 'region_of_previous_residence', 'age', 'education', 'detailed_household_summary_in_household', 'weeks_worked_in_year', 'instance_weight']\n"
     ]
    }
   ],
   "source": [
    "from sklearn.feature_selection import SelectKBest, mutual_info_classif\n",
    "\n",
    "# Calculate mutual information scores\n",
    "selector = SelectKBest(mutual_info_classif, k='all')\n",
    "selector.fit(X_train, y_train)\n",
    "\n",
    "# Get mutual information scores\n",
    "mutual_info_scores = selector.scores_\n",
    "\n",
    "# Print mutual information scores\n",
    "print(\"Mutual Information Scores:\")\n",
    "for feature, score in zip(X_train.columns, mutual_info_scores):\n",
    "    print(f\"{feature}: {score:.3f}\")\n",
    "\n",
    "# Sort mutual information scores in descending order\n",
    "sorted_scores = sorted(zip(X_train.columns, mutual_info_scores), key=lambda x: x[1], reverse=True)\n",
    "\n",
    "# Select top 12 features\n",
    "top_12_features = [feature for feature, score in sorted_scores[:12]]\n",
    "\n",
    "print(\"\\nTop 12 Features:\")\n",
    "print(top_12_features)"
   ]
  },
  {
   "cell_type": "markdown",
   "id": "43f63c19-ea79-4145-94ed-c807f9aa1069",
   "metadata": {},
   "source": [
    "### Feature Scaling"
   ]
  },
  {
   "cell_type": "code",
   "execution_count": 26,
   "id": "7a5571e9-3901-42ba-aaf7-8c4c1f376473",
   "metadata": {},
   "outputs": [],
   "source": [
    "from sklearn.preprocessing import OneHotEncoder, LabelEncoder, StandardScaler, MinMaxScaler\n",
    "scaler = StandardScaler() \n",
    "numerical_cols = df.select_dtypes(include=['number']).columns\n",
    "df[numerical_cols] = scaler.fit_transform(df[numerical_cols])\n",
    "\n",
    "le = LabelEncoder()\n",
    "y = le.fit_transform(df['income'])  \n"
   ]
  },
  {
   "cell_type": "markdown",
   "id": "c2c1b7c9-db03-4101-b5f9-0ccd8f998f66",
   "metadata": {},
   "source": [
    "### Machine Learning Model Building"
   ]
  },
  {
   "cell_type": "markdown",
   "id": "02b7ccac-3a6a-4dc9-b091-89dba8f338ea",
   "metadata": {},
   "source": [
    "Models\n",
    "Logistic Regression: Logistic Regression is a classification algorithm that predicts probabilities using the sigmoid function, making it ideal for binary classification tasks.\n",
    "\n",
    "Support Vector Machine(SVM): Support Vector Machine (SVM) is a classification algorithm that finds the optimal hyperplane to separate classes, maximizing the margin between them for better generalization.\n",
    "\n",
    "Random Forest: Random Forest is an ensemble learning algorithm that builds multiple decision trees and combines their outputs for more accurate and robust predictions, reducing overfitting.\n",
    "\n",
    "Decision Tre: Decision Tree is a supervised learning algorithm that splits data into branches based on feature conditions, forming a tree-like structure to make predictions.\n",
    "\n",
    "K-Nearest Neighbors: K-Nearest Neighbors (KNN) is a simple, non-parametric algorithm that classifies data points based on the majority class of their K closest neighbors.\n",
    "\n",
    "Gradient Boosting: Gradient Boosting is an ensemble method that combines multiple weak learners to form a strong predictive model. It efficiently captures complex feature interactions and handles large datasets but can be computationally intensive."
   ]
  },
  {
   "cell_type": "code",
   "execution_count": 28,
   "id": "4dc8dec3-4812-4b78-9a75-09711c285f84",
   "metadata": {},
   "outputs": [
    {
     "name": "stderr",
     "output_type": "stream",
     "text": [
      "C:\\Users\\muham\\anaconda3\\Lib\\site-packages\\sklearn\\linear_model\\_logistic.py:469: ConvergenceWarning: lbfgs failed to converge (status=1):\n",
      "STOP: TOTAL NO. of ITERATIONS REACHED LIMIT.\n",
      "\n",
      "Increase the number of iterations (max_iter) or scale the data as shown in:\n",
      "    https://scikit-learn.org/stable/modules/preprocessing.html\n",
      "Please also refer to the documentation for alternative solver options:\n",
      "    https://scikit-learn.org/stable/modules/linear_model.html#logistic-regression\n",
      "  n_iter_i = _check_optimize_result(\n"
     ]
    },
    {
     "data": {
      "text/html": [
       "<style>#sk-container-id-1 {\n",
       "  /* Definition of color scheme common for light and dark mode */\n",
       "  --sklearn-color-text: black;\n",
       "  --sklearn-color-line: gray;\n",
       "  /* Definition of color scheme for unfitted estimators */\n",
       "  --sklearn-color-unfitted-level-0: #fff5e6;\n",
       "  --sklearn-color-unfitted-level-1: #f6e4d2;\n",
       "  --sklearn-color-unfitted-level-2: #ffe0b3;\n",
       "  --sklearn-color-unfitted-level-3: chocolate;\n",
       "  /* Definition of color scheme for fitted estimators */\n",
       "  --sklearn-color-fitted-level-0: #f0f8ff;\n",
       "  --sklearn-color-fitted-level-1: #d4ebff;\n",
       "  --sklearn-color-fitted-level-2: #b3dbfd;\n",
       "  --sklearn-color-fitted-level-3: cornflowerblue;\n",
       "\n",
       "  /* Specific color for light theme */\n",
       "  --sklearn-color-text-on-default-background: var(--sg-text-color, var(--theme-code-foreground, var(--jp-content-font-color1, black)));\n",
       "  --sklearn-color-background: var(--sg-background-color, var(--theme-background, var(--jp-layout-color0, white)));\n",
       "  --sklearn-color-border-box: var(--sg-text-color, var(--theme-code-foreground, var(--jp-content-font-color1, black)));\n",
       "  --sklearn-color-icon: #696969;\n",
       "\n",
       "  @media (prefers-color-scheme: dark) {\n",
       "    /* Redefinition of color scheme for dark theme */\n",
       "    --sklearn-color-text-on-default-background: var(--sg-text-color, var(--theme-code-foreground, var(--jp-content-font-color1, white)));\n",
       "    --sklearn-color-background: var(--sg-background-color, var(--theme-background, var(--jp-layout-color0, #111)));\n",
       "    --sklearn-color-border-box: var(--sg-text-color, var(--theme-code-foreground, var(--jp-content-font-color1, white)));\n",
       "    --sklearn-color-icon: #878787;\n",
       "  }\n",
       "}\n",
       "\n",
       "#sk-container-id-1 {\n",
       "  color: var(--sklearn-color-text);\n",
       "}\n",
       "\n",
       "#sk-container-id-1 pre {\n",
       "  padding: 0;\n",
       "}\n",
       "\n",
       "#sk-container-id-1 input.sk-hidden--visually {\n",
       "  border: 0;\n",
       "  clip: rect(1px 1px 1px 1px);\n",
       "  clip: rect(1px, 1px, 1px, 1px);\n",
       "  height: 1px;\n",
       "  margin: -1px;\n",
       "  overflow: hidden;\n",
       "  padding: 0;\n",
       "  position: absolute;\n",
       "  width: 1px;\n",
       "}\n",
       "\n",
       "#sk-container-id-1 div.sk-dashed-wrapped {\n",
       "  border: 1px dashed var(--sklearn-color-line);\n",
       "  margin: 0 0.4em 0.5em 0.4em;\n",
       "  box-sizing: border-box;\n",
       "  padding-bottom: 0.4em;\n",
       "  background-color: var(--sklearn-color-background);\n",
       "}\n",
       "\n",
       "#sk-container-id-1 div.sk-container {\n",
       "  /* jupyter's `normalize.less` sets `[hidden] { display: none; }`\n",
       "     but bootstrap.min.css set `[hidden] { display: none !important; }`\n",
       "     so we also need the `!important` here to be able to override the\n",
       "     default hidden behavior on the sphinx rendered scikit-learn.org.\n",
       "     See: https://github.com/scikit-learn/scikit-learn/issues/21755 */\n",
       "  display: inline-block !important;\n",
       "  position: relative;\n",
       "}\n",
       "\n",
       "#sk-container-id-1 div.sk-text-repr-fallback {\n",
       "  display: none;\n",
       "}\n",
       "\n",
       "div.sk-parallel-item,\n",
       "div.sk-serial,\n",
       "div.sk-item {\n",
       "  /* draw centered vertical line to link estimators */\n",
       "  background-image: linear-gradient(var(--sklearn-color-text-on-default-background), var(--sklearn-color-text-on-default-background));\n",
       "  background-size: 2px 100%;\n",
       "  background-repeat: no-repeat;\n",
       "  background-position: center center;\n",
       "}\n",
       "\n",
       "/* Parallel-specific style estimator block */\n",
       "\n",
       "#sk-container-id-1 div.sk-parallel-item::after {\n",
       "  content: \"\";\n",
       "  width: 100%;\n",
       "  border-bottom: 2px solid var(--sklearn-color-text-on-default-background);\n",
       "  flex-grow: 1;\n",
       "}\n",
       "\n",
       "#sk-container-id-1 div.sk-parallel {\n",
       "  display: flex;\n",
       "  align-items: stretch;\n",
       "  justify-content: center;\n",
       "  background-color: var(--sklearn-color-background);\n",
       "  position: relative;\n",
       "}\n",
       "\n",
       "#sk-container-id-1 div.sk-parallel-item {\n",
       "  display: flex;\n",
       "  flex-direction: column;\n",
       "}\n",
       "\n",
       "#sk-container-id-1 div.sk-parallel-item:first-child::after {\n",
       "  align-self: flex-end;\n",
       "  width: 50%;\n",
       "}\n",
       "\n",
       "#sk-container-id-1 div.sk-parallel-item:last-child::after {\n",
       "  align-self: flex-start;\n",
       "  width: 50%;\n",
       "}\n",
       "\n",
       "#sk-container-id-1 div.sk-parallel-item:only-child::after {\n",
       "  width: 0;\n",
       "}\n",
       "\n",
       "/* Serial-specific style estimator block */\n",
       "\n",
       "#sk-container-id-1 div.sk-serial {\n",
       "  display: flex;\n",
       "  flex-direction: column;\n",
       "  align-items: center;\n",
       "  background-color: var(--sklearn-color-background);\n",
       "  padding-right: 1em;\n",
       "  padding-left: 1em;\n",
       "}\n",
       "\n",
       "\n",
       "/* Toggleable style: style used for estimator/Pipeline/ColumnTransformer box that is\n",
       "clickable and can be expanded/collapsed.\n",
       "- Pipeline and ColumnTransformer use this feature and define the default style\n",
       "- Estimators will overwrite some part of the style using the `sk-estimator` class\n",
       "*/\n",
       "\n",
       "/* Pipeline and ColumnTransformer style (default) */\n",
       "\n",
       "#sk-container-id-1 div.sk-toggleable {\n",
       "  /* Default theme specific background. It is overwritten whether we have a\n",
       "  specific estimator or a Pipeline/ColumnTransformer */\n",
       "  background-color: var(--sklearn-color-background);\n",
       "}\n",
       "\n",
       "/* Toggleable label */\n",
       "#sk-container-id-1 label.sk-toggleable__label {\n",
       "  cursor: pointer;\n",
       "  display: block;\n",
       "  width: 100%;\n",
       "  margin-bottom: 0;\n",
       "  padding: 0.5em;\n",
       "  box-sizing: border-box;\n",
       "  text-align: center;\n",
       "}\n",
       "\n",
       "#sk-container-id-1 label.sk-toggleable__label-arrow:before {\n",
       "  /* Arrow on the left of the label */\n",
       "  content: \"▸\";\n",
       "  float: left;\n",
       "  margin-right: 0.25em;\n",
       "  color: var(--sklearn-color-icon);\n",
       "}\n",
       "\n",
       "#sk-container-id-1 label.sk-toggleable__label-arrow:hover:before {\n",
       "  color: var(--sklearn-color-text);\n",
       "}\n",
       "\n",
       "/* Toggleable content - dropdown */\n",
       "\n",
       "#sk-container-id-1 div.sk-toggleable__content {\n",
       "  max-height: 0;\n",
       "  max-width: 0;\n",
       "  overflow: hidden;\n",
       "  text-align: left;\n",
       "  /* unfitted */\n",
       "  background-color: var(--sklearn-color-unfitted-level-0);\n",
       "}\n",
       "\n",
       "#sk-container-id-1 div.sk-toggleable__content.fitted {\n",
       "  /* fitted */\n",
       "  background-color: var(--sklearn-color-fitted-level-0);\n",
       "}\n",
       "\n",
       "#sk-container-id-1 div.sk-toggleable__content pre {\n",
       "  margin: 0.2em;\n",
       "  border-radius: 0.25em;\n",
       "  color: var(--sklearn-color-text);\n",
       "  /* unfitted */\n",
       "  background-color: var(--sklearn-color-unfitted-level-0);\n",
       "}\n",
       "\n",
       "#sk-container-id-1 div.sk-toggleable__content.fitted pre {\n",
       "  /* unfitted */\n",
       "  background-color: var(--sklearn-color-fitted-level-0);\n",
       "}\n",
       "\n",
       "#sk-container-id-1 input.sk-toggleable__control:checked~div.sk-toggleable__content {\n",
       "  /* Expand drop-down */\n",
       "  max-height: 200px;\n",
       "  max-width: 100%;\n",
       "  overflow: auto;\n",
       "}\n",
       "\n",
       "#sk-container-id-1 input.sk-toggleable__control:checked~label.sk-toggleable__label-arrow:before {\n",
       "  content: \"▾\";\n",
       "}\n",
       "\n",
       "/* Pipeline/ColumnTransformer-specific style */\n",
       "\n",
       "#sk-container-id-1 div.sk-label input.sk-toggleable__control:checked~label.sk-toggleable__label {\n",
       "  color: var(--sklearn-color-text);\n",
       "  background-color: var(--sklearn-color-unfitted-level-2);\n",
       "}\n",
       "\n",
       "#sk-container-id-1 div.sk-label.fitted input.sk-toggleable__control:checked~label.sk-toggleable__label {\n",
       "  background-color: var(--sklearn-color-fitted-level-2);\n",
       "}\n",
       "\n",
       "/* Estimator-specific style */\n",
       "\n",
       "/* Colorize estimator box */\n",
       "#sk-container-id-1 div.sk-estimator input.sk-toggleable__control:checked~label.sk-toggleable__label {\n",
       "  /* unfitted */\n",
       "  background-color: var(--sklearn-color-unfitted-level-2);\n",
       "}\n",
       "\n",
       "#sk-container-id-1 div.sk-estimator.fitted input.sk-toggleable__control:checked~label.sk-toggleable__label {\n",
       "  /* fitted */\n",
       "  background-color: var(--sklearn-color-fitted-level-2);\n",
       "}\n",
       "\n",
       "#sk-container-id-1 div.sk-label label.sk-toggleable__label,\n",
       "#sk-container-id-1 div.sk-label label {\n",
       "  /* The background is the default theme color */\n",
       "  color: var(--sklearn-color-text-on-default-background);\n",
       "}\n",
       "\n",
       "/* On hover, darken the color of the background */\n",
       "#sk-container-id-1 div.sk-label:hover label.sk-toggleable__label {\n",
       "  color: var(--sklearn-color-text);\n",
       "  background-color: var(--sklearn-color-unfitted-level-2);\n",
       "}\n",
       "\n",
       "/* Label box, darken color on hover, fitted */\n",
       "#sk-container-id-1 div.sk-label.fitted:hover label.sk-toggleable__label.fitted {\n",
       "  color: var(--sklearn-color-text);\n",
       "  background-color: var(--sklearn-color-fitted-level-2);\n",
       "}\n",
       "\n",
       "/* Estimator label */\n",
       "\n",
       "#sk-container-id-1 div.sk-label label {\n",
       "  font-family: monospace;\n",
       "  font-weight: bold;\n",
       "  display: inline-block;\n",
       "  line-height: 1.2em;\n",
       "}\n",
       "\n",
       "#sk-container-id-1 div.sk-label-container {\n",
       "  text-align: center;\n",
       "}\n",
       "\n",
       "/* Estimator-specific */\n",
       "#sk-container-id-1 div.sk-estimator {\n",
       "  font-family: monospace;\n",
       "  border: 1px dotted var(--sklearn-color-border-box);\n",
       "  border-radius: 0.25em;\n",
       "  box-sizing: border-box;\n",
       "  margin-bottom: 0.5em;\n",
       "  /* unfitted */\n",
       "  background-color: var(--sklearn-color-unfitted-level-0);\n",
       "}\n",
       "\n",
       "#sk-container-id-1 div.sk-estimator.fitted {\n",
       "  /* fitted */\n",
       "  background-color: var(--sklearn-color-fitted-level-0);\n",
       "}\n",
       "\n",
       "/* on hover */\n",
       "#sk-container-id-1 div.sk-estimator:hover {\n",
       "  /* unfitted */\n",
       "  background-color: var(--sklearn-color-unfitted-level-2);\n",
       "}\n",
       "\n",
       "#sk-container-id-1 div.sk-estimator.fitted:hover {\n",
       "  /* fitted */\n",
       "  background-color: var(--sklearn-color-fitted-level-2);\n",
       "}\n",
       "\n",
       "/* Specification for estimator info (e.g. \"i\" and \"?\") */\n",
       "\n",
       "/* Common style for \"i\" and \"?\" */\n",
       "\n",
       ".sk-estimator-doc-link,\n",
       "a:link.sk-estimator-doc-link,\n",
       "a:visited.sk-estimator-doc-link {\n",
       "  float: right;\n",
       "  font-size: smaller;\n",
       "  line-height: 1em;\n",
       "  font-family: monospace;\n",
       "  background-color: var(--sklearn-color-background);\n",
       "  border-radius: 1em;\n",
       "  height: 1em;\n",
       "  width: 1em;\n",
       "  text-decoration: none !important;\n",
       "  margin-left: 1ex;\n",
       "  /* unfitted */\n",
       "  border: var(--sklearn-color-unfitted-level-1) 1pt solid;\n",
       "  color: var(--sklearn-color-unfitted-level-1);\n",
       "}\n",
       "\n",
       ".sk-estimator-doc-link.fitted,\n",
       "a:link.sk-estimator-doc-link.fitted,\n",
       "a:visited.sk-estimator-doc-link.fitted {\n",
       "  /* fitted */\n",
       "  border: var(--sklearn-color-fitted-level-1) 1pt solid;\n",
       "  color: var(--sklearn-color-fitted-level-1);\n",
       "}\n",
       "\n",
       "/* On hover */\n",
       "div.sk-estimator:hover .sk-estimator-doc-link:hover,\n",
       ".sk-estimator-doc-link:hover,\n",
       "div.sk-label-container:hover .sk-estimator-doc-link:hover,\n",
       ".sk-estimator-doc-link:hover {\n",
       "  /* unfitted */\n",
       "  background-color: var(--sklearn-color-unfitted-level-3);\n",
       "  color: var(--sklearn-color-background);\n",
       "  text-decoration: none;\n",
       "}\n",
       "\n",
       "div.sk-estimator.fitted:hover .sk-estimator-doc-link.fitted:hover,\n",
       ".sk-estimator-doc-link.fitted:hover,\n",
       "div.sk-label-container:hover .sk-estimator-doc-link.fitted:hover,\n",
       ".sk-estimator-doc-link.fitted:hover {\n",
       "  /* fitted */\n",
       "  background-color: var(--sklearn-color-fitted-level-3);\n",
       "  color: var(--sklearn-color-background);\n",
       "  text-decoration: none;\n",
       "}\n",
       "\n",
       "/* Span, style for the box shown on hovering the info icon */\n",
       ".sk-estimator-doc-link span {\n",
       "  display: none;\n",
       "  z-index: 9999;\n",
       "  position: relative;\n",
       "  font-weight: normal;\n",
       "  right: .2ex;\n",
       "  padding: .5ex;\n",
       "  margin: .5ex;\n",
       "  width: min-content;\n",
       "  min-width: 20ex;\n",
       "  max-width: 50ex;\n",
       "  color: var(--sklearn-color-text);\n",
       "  box-shadow: 2pt 2pt 4pt #999;\n",
       "  /* unfitted */\n",
       "  background: var(--sklearn-color-unfitted-level-0);\n",
       "  border: .5pt solid var(--sklearn-color-unfitted-level-3);\n",
       "}\n",
       "\n",
       ".sk-estimator-doc-link.fitted span {\n",
       "  /* fitted */\n",
       "  background: var(--sklearn-color-fitted-level-0);\n",
       "  border: var(--sklearn-color-fitted-level-3);\n",
       "}\n",
       "\n",
       ".sk-estimator-doc-link:hover span {\n",
       "  display: block;\n",
       "}\n",
       "\n",
       "/* \"?\"-specific style due to the `<a>` HTML tag */\n",
       "\n",
       "#sk-container-id-1 a.estimator_doc_link {\n",
       "  float: right;\n",
       "  font-size: 1rem;\n",
       "  line-height: 1em;\n",
       "  font-family: monospace;\n",
       "  background-color: var(--sklearn-color-background);\n",
       "  border-radius: 1rem;\n",
       "  height: 1rem;\n",
       "  width: 1rem;\n",
       "  text-decoration: none;\n",
       "  /* unfitted */\n",
       "  color: var(--sklearn-color-unfitted-level-1);\n",
       "  border: var(--sklearn-color-unfitted-level-1) 1pt solid;\n",
       "}\n",
       "\n",
       "#sk-container-id-1 a.estimator_doc_link.fitted {\n",
       "  /* fitted */\n",
       "  border: var(--sklearn-color-fitted-level-1) 1pt solid;\n",
       "  color: var(--sklearn-color-fitted-level-1);\n",
       "}\n",
       "\n",
       "/* On hover */\n",
       "#sk-container-id-1 a.estimator_doc_link:hover {\n",
       "  /* unfitted */\n",
       "  background-color: var(--sklearn-color-unfitted-level-3);\n",
       "  color: var(--sklearn-color-background);\n",
       "  text-decoration: none;\n",
       "}\n",
       "\n",
       "#sk-container-id-1 a.estimator_doc_link.fitted:hover {\n",
       "  /* fitted */\n",
       "  background-color: var(--sklearn-color-fitted-level-3);\n",
       "}\n",
       "</style><div id=\"sk-container-id-1\" class=\"sk-top-container\"><div class=\"sk-text-repr-fallback\"><pre>LogisticRegression(max_iter=1000)</pre><b>In a Jupyter environment, please rerun this cell to show the HTML representation or trust the notebook. <br />On GitHub, the HTML representation is unable to render, please try loading this page with nbviewer.org.</b></div><div class=\"sk-container\" hidden><div class=\"sk-item\"><div class=\"sk-estimator fitted sk-toggleable\"><input class=\"sk-toggleable__control sk-hidden--visually\" id=\"sk-estimator-id-1\" type=\"checkbox\" checked><label for=\"sk-estimator-id-1\" class=\"sk-toggleable__label fitted sk-toggleable__label-arrow fitted\">&nbsp;&nbsp;LogisticRegression<a class=\"sk-estimator-doc-link fitted\" rel=\"noreferrer\" target=\"_blank\" href=\"https://scikit-learn.org/1.5/modules/generated/sklearn.linear_model.LogisticRegression.html\">?<span>Documentation for LogisticRegression</span></a><span class=\"sk-estimator-doc-link fitted\">i<span>Fitted</span></span></label><div class=\"sk-toggleable__content fitted\"><pre>LogisticRegression(max_iter=1000)</pre></div> </div></div></div></div>"
      ],
      "text/plain": [
       "LogisticRegression(max_iter=1000)"
      ]
     },
     "execution_count": 28,
     "metadata": {},
     "output_type": "execute_result"
    }
   ],
   "source": [
    "from sklearn.linear_model import LogisticRegression\n",
    "\n",
    "model = LogisticRegression(max_iter=1000)\n",
    "model.fit(X_train, y_train)\n"
   ]
  },
  {
   "cell_type": "code",
   "execution_count": null,
   "id": "9d63a677-d1a7-47ae-aac6-5c59596a1a23",
   "metadata": {},
   "outputs": [
    {
     "name": "stderr",
     "output_type": "stream",
     "text": [
      "C:\\Users\\muham\\anaconda3\\Lib\\site-packages\\sklearn\\linear_model\\_logistic.py:469: ConvergenceWarning: lbfgs failed to converge (status=1):\n",
      "STOP: TOTAL NO. of ITERATIONS REACHED LIMIT.\n",
      "\n",
      "Increase the number of iterations (max_iter) or scale the data as shown in:\n",
      "    https://scikit-learn.org/stable/modules/preprocessing.html\n",
      "Please also refer to the documentation for alternative solver options:\n",
      "    https://scikit-learn.org/stable/modules/linear_model.html#logistic-regression\n",
      "  n_iter_i = _check_optimize_result(\n"
     ]
    },
    {
     "name": "stdout",
     "output_type": "stream",
     "text": [
      "Logistic Regression:\n",
      "Training Accuracy: 0.757\n",
      "Testing Accuracy: 0.753\n",
      "\n"
     ]
    }
   ],
   "source": [
    "from sklearn.linear_model import LogisticRegression\n",
    "from sklearn.svm import SVC\n",
    "from sklearn.tree import DecisionTreeClassifier\n",
    "from sklearn.neural_network import MLPClassifier\n",
    "from sklearn.naive_bayes import GaussianNB\n",
    "from sklearn.ensemble import RandomForestClassifier, GradientBoostingClassifier, AdaBoostClassifier\n",
    "from sklearn.neighbors import KNeighborsClassifier\n",
    "from sklearn.metrics import accuracy_score\n",
    "\n",
    "# Define models\n",
    "models = {\n",
    "    \"Logistic Regression\": LogisticRegression(),\n",
    "    \"Support Vector Machine\": SVC(),\n",
    "    \"Random Forest\": RandomForestClassifier(),\n",
    "    \"Decision Tree\": DecisionTreeClassifier(),\n",
    "    \"K-Nearest Neighbors\": KNeighborsClassifier(),\n",
    "    \"Gradient Boosting\": GradientBoostingClassifier()\n",
    "}\n",
    "\n",
    "# Train and evaluate models\n",
    "for model_name, model in models.items():\n",
    "    model.fit(X_train, y_train)\n",
    "    y_train_pred = model.predict(X_train)\n",
    "    y_test_pred = model.predict(X_test)\n",
    "    \n",
    "    train_accuracy = accuracy_score(y_train, y_train_pred)\n",
    "    test_accuracy = accuracy_score(y_test, y_test_pred)\n",
    "    \n",
    "    print(f\"{model_name}:\")\n",
    "    print(f\"Training Accuracy: {train_accuracy:.3f}\")\n",
    "    print(f\"Testing Accuracy: {test_accuracy:.3f}\")\n",
    "    print()"
   ]
  },
  {
   "cell_type": "code",
   "execution_count": null,
   "id": "584d9300-ee99-494f-b571-3cbb77d5d703",
   "metadata": {},
   "outputs": [],
   "source": [
    "from sklearn.metrics import accuracy_score, precision_score, recall_score, f1_score, confusion_matrix\n",
    "\n",
    "for model_name, model in models.items():\n",
    "    model.fit(X_train, y_train)\n",
    "    y_pred = model.predict(X_test)\n",
    "\n",
    "    print(f\"{model_name}:\")\n",
    "    print(f\"Accuracy: {accuracy_score(y_test, y_pred)}\")\n",
    "    print(f\"Precision: {precision_score(y_test, y_pred)}\")\n",
    "    print(f\"Recall: {recall_score(y_test, y_pred)}\")\n",
    "    print(f\"F1-score: {f1_score(y_test, y_pred)}\")\n",
    "    print(\"Confusion Matrix:\")\n",
    "    print(confusion_matrix(y_test, y_pred))\n",
    "    print()"
   ]
  },
  {
   "cell_type": "markdown",
   "id": "2290aa93-ccf7-4c8e-acfe-4fad23227f8a",
   "metadata": {},
   "source": [
    "### Hyperparameter Tuning"
   ]
  },
  {
   "cell_type": "markdown",
   "id": "fbc2433b-32bc-4bf1-998d-e026006bf66e",
   "metadata": {},
   "source": [
    "Hyperparameter tuning is the process of selecting the best set of hyperparameters to optimize a machine learning model's performance. Unlike model parameters (learned from data), hyperparameters are set manually before training.\n",
    "\n"
   ]
  },
  {
   "cell_type": "code",
   "execution_count": null,
   "id": "8e651272-1a65-4328-ac67-4d539f8392b9",
   "metadata": {},
   "outputs": [],
   "source": [
    "from sklearn.ensemble import RandomForestClassifier\n",
    "from sklearn.model_selection import GridSearchCV, RandomizedSearchCV\n",
    "\n",
    "# hyperparameter grid\n",
    "param_grid = {\n",
    "    'n_estimators': [50, 100, 200],\n",
    "    'max_depth': [10, 20, 30, None],\n",
    "    'min_samples_split': [2, 5, 10],\n",
    "    'min_samples_leaf': [1, 2, 4]\n",
    "}\n"
   ]
  },
  {
   "cell_type": "markdown",
   "id": "5def8dba-de88-4711-9051-d36e263d88b9",
   "metadata": {},
   "source": [
    "### Receiver Operating Characteristic (ROC) Curve"
   ]
  },
  {
   "cell_type": "markdown",
   "id": "07928e47-6cb8-4151-9faa-5dd0e2775eb8",
   "metadata": {},
   "source": [
    "The ROC Curve is a graphical representation that evaluates the performance of a classification model by plotting the True Positive Rate (TPR) against the False Positive Rate (FPR) at various threshold levels.\n"
   ]
  },
  {
   "cell_type": "code",
   "execution_count": null,
   "id": "9c8f49cc-8d5c-4317-92a0-8130097ba15c",
   "metadata": {},
   "outputs": [],
   "source": [
    "import matplotlib.pyplot as plt\n",
    "from sklearn.metrics import roc_curve, auc\n",
    "\n",
    "# Plot ROC Curve for all models\n",
    "plt.figure(figsize=(10, 7))\n",
    "\n",
    "for name, model in models.items():\n",
    "    # Ensure SVC models have probability enabled\n",
    "    if hasattr(model, \"predict_proba\"):  \n",
    "        y_prob = model.predict_proba(X_test)[:, 1] \n",
    "    else:\n",
    "        continue  \n",
    "\n",
    "    fpr, tpr, _ = roc_curve(y_test, y_prob)  \n",
    "    roc_auc = auc(fpr, tpr)  \n",
    "    plt.plot(fpr, tpr, label=f'{name} (AUC = {roc_auc:.4f})')\n",
    "\n",
    "# Plotting aesthetics\n",
    "plt.plot([0, 1], [0, 1], 'k--', lw=2, label=\"Random Guessing\")  \n",
    "plt.xlabel('False Positive Rate')\n",
    "plt.ylabel('True Positive Rate')\n",
    "plt.title('ROC Curve Comparison')\n",
    "plt.legend(loc='lower right')\n",
    "plt.grid()\n",
    "plt.show()"
   ]
  },
  {
   "cell_type": "markdown",
   "id": "b21f5721-352e-4ff5-8cae-87cb43159a02",
   "metadata": {},
   "source": [
    "### Save the Model"
   ]
  },
  {
   "cell_type": "code",
   "execution_count": null,
   "id": "bc7d13ed-6f84-4b2d-ab45-b648f4da74e5",
   "metadata": {},
   "outputs": [],
   "source": [
    "import joblib\n",
    "\n",
    "joblib.dump(best_rf, \"random_forest_model.pkl\")\n",
    "print(\"Model saved successfully!\")"
   ]
  },
  {
   "cell_type": "markdown",
   "id": "05a73508-1ea0-4410-acc7-ed2202951715",
   "metadata": {},
   "source": [
    "### Pipeline for ML Model"
   ]
  },
  {
   "cell_type": "markdown",
   "id": "62782907-87d5-4adf-a713-51f87ec2174e",
   "metadata": {},
   "source": [
    "A machine learning pipeline is to automate data preprocessing, feature selection, and model training, ensuring efficiency and reproducibility."
   ]
  },
  {
   "cell_type": "code",
   "execution_count": null,
   "id": "d62f3e2d-fa01-417c-bc71-de7e08ffa96a",
   "metadata": {},
   "outputs": [],
   "source": [
    "from sklearn.pipeline import Pipeline\n",
    "from sklearn.impute import SimpleImputer\n",
    "from sklearn.preprocessing import StandardScaler\n",
    "from sklearn.feature_selection import SelectKBest, mutual_info_classif\n",
    "from imblearn.over_sampling import SMOTE\n",
    "from sklearn.ensemble import RandomForestClassifier\n",
    "from sklearn.model_selection import train_test_split\n",
    "from imblearn.pipeline import Pipeline as ImbPipeline\n",
    "\n",
    "# Define the pipeline\n",
    "pipeline = ImbPipeline([\n",
    "    ('imputer', SimpleImputer(strategy='mean')), \n",
    "    ('scaler', StandardScaler()),  \n",
    "    ('feature_selection', SelectKBest(mutual_info_classif, k=12)),  \n",
    "    ('smote', SMOTE(random_state=42)), \n",
    "    ('classifier', RandomForestClassifier(n_estimators=300, max_depth=None, random_state=42))  \n",
    "])\n",
    "\n",
    "# Train the pipeline\n",
    "pipeline.fit(X_train, y_train)"
   ]
  },
  {
   "cell_type": "code",
   "execution_count": null,
   "id": "72618cb1-b982-4c44-afb3-bb8b1008592b",
   "metadata": {},
   "outputs": [],
   "source": [
    "joblib.dump(pipe, 'pipeline.joblib')\n",
    "print(\"Pipeline saved successfully!\")"
   ]
  },
  {
   "cell_type": "code",
   "execution_count": null,
   "id": "fbfb3560-79d7-422a-b4a5-1fea86218581",
   "metadata": {},
   "outputs": [],
   "source": []
  },
  {
   "cell_type": "code",
   "execution_count": null,
   "id": "46605a19-9d44-4932-9f6f-c7ad36522d9e",
   "metadata": {},
   "outputs": [],
   "source": []
  },
  {
   "cell_type": "code",
   "execution_count": null,
   "id": "f2ff4774-06e8-4d62-a590-62fc52396c98",
   "metadata": {},
   "outputs": [],
   "source": []
  }
 ],
 "metadata": {
  "kernelspec": {
   "display_name": "Python [conda env:base] *",
   "language": "python",
   "name": "conda-base-py"
  },
  "language_info": {
   "codemirror_mode": {
    "name": "ipython",
    "version": 3
   },
   "file_extension": ".py",
   "mimetype": "text/x-python",
   "name": "python",
   "nbconvert_exporter": "python",
   "pygments_lexer": "ipython3",
   "version": "3.12.7"
  }
 },
 "nbformat": 4,
 "nbformat_minor": 5
}
